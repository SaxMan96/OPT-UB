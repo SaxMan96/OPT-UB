{
 "cells": [
  {
   "cell_type": "markdown",
   "metadata": {},
   "source": [
    "# Excersize 5"
   ]
  },
  {
   "cell_type": "markdown",
   "metadata": {},
   "source": [
    "Iterative conjugate Gradient Method with Ax = b, where matrix A is real, symetric and positive defined. x0 is a starting point.\n",
    "\n",
    "$\n",
    "r_{0}:=b-Ax_{0}\\\\\n",
    "p_{0}:=r_{0}\\\\\n",
    "k:=0\\\\\n",
    "$\n",
    "\n",
    "**repeat**\n",
    "\n",
    "$\n",
    "\\alpha _{k}:={\\frac {r_{k}^{\\top }r_{k}}{p_{k}^{\\top }Ap_{k}}}\\\\\n",
    "x_{k+1}:=x_{k}+\\alpha _{k}p_{k}\\\\\n",
    "r_{k+1}:=r_{k}-\\alpha _{k}Ap_{k}\\\\\n",
    "$\n",
    "\n",
    "**if** $r_{k+1}$ is small enough\n",
    "    **then** exit loop\n",
    "**end if**\n",
    "\n",
    "$\n",
    "\\beta _{k}:={\\frac {r_{k+1}^{\\top }r_{k+1}}{r_{k}^{\\top }r_{k}}}\\\\\n",
    "p_{k+1}:=r_{k+1}+\\beta _{k}p_{k}\\\\\n",
    "k:=k+1\n",
    "$\n",
    "\n",
    "**end repeat**\n",
    "\n",
    "**Result is:** $x_{k+1}$"
   ]
  },
  {
   "cell_type": "code",
   "execution_count": 178,
   "metadata": {},
   "outputs": [],
   "source": [
    "from IPython.display import display, Math\n",
    "\n",
    "def bvalue(var, a):\n",
    "    display(Math(var+' = '+str(round(a,2))))\n",
    "    \n",
    "def bmatrix(var, a):\n",
    "    \"\"\"Returns a LaTeX bmatrix\n",
    "\n",
    "    :a: numpy array\n",
    "    :returns: LaTeX bmatrix as a string\n",
    "    \"\"\"\n",
    "    if len(a.shape) > 2:\n",
    "        raise ValueError('bmatrix can at most display two dimensions')\n",
    "    lines = str(a).replace('[', '').replace(']', '').splitlines()\n",
    "    rv = [r'\\begin{bmatrix}']\n",
    "    rv += ['  ' + ' & '.join(l.split()) + r'\\\\' for l in lines]\n",
    "    rv +=  [r'\\end{bmatrix}']\n",
    "    display(Math(var+' = '+'\\n'.join(rv)))"
   ]
  },
  {
   "cell_type": "code",
   "execution_count": 179,
   "metadata": {},
   "outputs": [],
   "source": [
    "from IPython.display import display, Math\n",
    "\n",
    "def bvalue(var, a):\n",
    "    return str(var+' = '+str(round(a,2)))\n",
    "    \n",
    "def bmatrix(var, a):\n",
    "    \"\"\"Returns a LaTeX bmatrix\n",
    "\n",
    "    :a: numpy array\n",
    "    :returns: LaTeX bmatrix as a string\n",
    "    \"\"\"\n",
    "    if len(a.shape) > 2:\n",
    "        raise ValueError('bmatrix can at most display two dimensions')\n",
    "    lines = str(a).replace('[', '').replace(']', '').splitlines()\n",
    "    rv = [r'\\begin{bmatrix}']\n",
    "    rv += ['  ' + ' & '.join(l.split()) + r'\\\\' for l in lines]\n",
    "    rv +=  [r'\\end{bmatrix}']\n",
    "    return str(var+' = '+'\\n'.join(rv))"
   ]
  },
  {
   "cell_type": "code",
   "execution_count": 180,
   "metadata": {},
   "outputs": [],
   "source": [
    "import numpy as np\n",
    "\n",
    "def conjgrad(A,b,x0):\n",
    "    r = b - A@x0\n",
    "    p = r\n",
    "    x = x0\n",
    "    disp = \"\"\n",
    "    for k, v in {\"A\": A, \"b\": b, \"x_{0}\": x0, \"r_{0}\": r, \"p_{0}\": p}.items():\n",
    "        disp += bmatrix(k,v) + \", \"\n",
    "    display(Math(disp))\n",
    "    for i in range(A.shape[0]):\n",
    "        print(\"Iteration: \", i)\n",
    "        alpha = (r.T@r)/(p.T@(A@p))\n",
    "        x = x + alpha*p\n",
    "        r_new = r - alpha*(A@p)\n",
    "        if np.linalg.norm(r) < 1e-10:\n",
    "            break\n",
    "        beta = (r_new.T@r_new)/(r.T@r)\n",
    "        p = r_new + beta*p\n",
    "        r = r_new\n",
    "        disp = ''\n",
    "        for k, v in {r\"\\alpha\": alpha.item(), r\"\\beta\": beta.item()}.items():\n",
    "            disp += bvalue(k,v) + \", \"\n",
    "        for k, v in {\"x_{\"+str(i+1)+\"}\": x, \"r_{\"+str(i+1)+\"}\": r, \"p_{\"+str(i+1)+\"}\": p}.items():\n",
    "            disp += bmatrix(k,v) + \", \"\n",
    "        display(Math(disp))\n",
    "    return x"
   ]
  },
  {
   "cell_type": "code",
   "execution_count": 181,
   "metadata": {},
   "outputs": [
    {
     "data": {
      "text/latex": [
       "$\\displaystyle A = \\begin{bmatrix}\n",
       "  1 & 0 & 0\\\\\n",
       "  0 & 2 & 0\\\\\n",
       "  0 & 0 & 3\\\\\n",
       "\\end{bmatrix}, b = \\begin{bmatrix}\n",
       "  1\\\\\n",
       "  1\\\\\n",
       "  1\\\\\n",
       "\\end{bmatrix}, x_{0} = \\begin{bmatrix}\n",
       "  0\\\\\n",
       "  0\\\\\n",
       "  0\\\\\n",
       "\\end{bmatrix}, r_{0} = \\begin{bmatrix}\n",
       "  1\\\\\n",
       "  1\\\\\n",
       "  1\\\\\n",
       "\\end{bmatrix}, p_{0} = \\begin{bmatrix}\n",
       "  1\\\\\n",
       "  1\\\\\n",
       "  1\\\\\n",
       "\\end{bmatrix}, $"
      ],
      "text/plain": [
       "<IPython.core.display.Math object>"
      ]
     },
     "metadata": {},
     "output_type": "display_data"
    },
    {
     "name": "stdout",
     "output_type": "stream",
     "text": [
      "Iteration:  0\n"
     ]
    },
    {
     "data": {
      "text/latex": [
       "$\\displaystyle \\alpha = 0.5, \\beta = 0.17, x_{1} = \\begin{bmatrix}\n",
       "  0.5\\\\\n",
       "  0.5\\\\\n",
       "  0.5\\\\\n",
       "\\end{bmatrix}, r_{1} = \\begin{bmatrix}\n",
       "  0.5\\\\\n",
       "  0.\\\\\n",
       "  -0.5\\\\\n",
       "\\end{bmatrix}, p_{1} = \\begin{bmatrix}\n",
       "  0.66666667\\\\\n",
       "  0.16666667\\\\\n",
       "  -0.33333333\\\\\n",
       "\\end{bmatrix}, $"
      ],
      "text/plain": [
       "<IPython.core.display.Math object>"
      ]
     },
     "metadata": {},
     "output_type": "display_data"
    },
    {
     "name": "stdout",
     "output_type": "stream",
     "text": [
      "Iteration:  1\n"
     ]
    },
    {
     "data": {
      "text/latex": [
       "$\\displaystyle \\alpha = 0.6, \\beta = 0.12, x_{2} = \\begin{bmatrix}\n",
       "  0.9\\\\\n",
       "  0.6\\\\\n",
       "  0.3\\\\\n",
       "\\end{bmatrix}, r_{2} = \\begin{bmatrix}\n",
       "  0.1\\\\\n",
       "  -0.2\\\\\n",
       "  0.1\\\\\n",
       "\\end{bmatrix}, p_{2} = \\begin{bmatrix}\n",
       "  0.18\\\\\n",
       "  -0.18\\\\\n",
       "  0.06\\\\\n",
       "\\end{bmatrix}, $"
      ],
      "text/plain": [
       "<IPython.core.display.Math object>"
      ]
     },
     "metadata": {},
     "output_type": "display_data"
    },
    {
     "name": "stdout",
     "output_type": "stream",
     "text": [
      "Iteration:  2\n"
     ]
    },
    {
     "data": {
      "text/latex": [
       "$\\displaystyle \\alpha = 0.56, \\beta = 0.0, x_{3} = \\begin{bmatrix}\n",
       "  1.\\\\\n",
       "  0.5\\\\\n",
       "  0.33333333\\\\\n",
       "\\end{bmatrix}, r_{3} = \\begin{bmatrix}\n",
       "  1.38777878e-17\\\\\n",
       "  2.77555756e-17\\\\\n",
       "  1.38777878e-17\\\\\n",
       "\\end{bmatrix}, p_{3} = \\begin{bmatrix}\n",
       "  1.38777878e-17\\\\\n",
       "  2.77555756e-17\\\\\n",
       "  1.38777878e-17\\\\\n",
       "\\end{bmatrix}, $"
      ],
      "text/plain": [
       "<IPython.core.display.Math object>"
      ]
     },
     "metadata": {},
     "output_type": "display_data"
    },
    {
     "name": "stdout",
     "output_type": "stream",
     "text": [
      "Result:\n"
     ]
    },
    {
     "data": {
      "text/latex": [
       "$\\displaystyle x = \\begin{bmatrix}\n",
       "  1.\\\\\n",
       "  0.5\\\\\n",
       "  0.33333333\\\\\n",
       "\\end{bmatrix}$"
      ],
      "text/plain": [
       "<IPython.core.display.Math object>"
      ]
     },
     "metadata": {},
     "output_type": "display_data"
    }
   ],
   "source": [
    "A = np.array([[1, 0, 0], [0, 2, 0], [0, 0, 3]])\n",
    "b = np.array([[1,1,1]]).T\n",
    "x0 = np.array([[0,0,0]]).T\n",
    "x = conjgrad(A,b,x0)\n",
    "print(\"Result:\")\n",
    "display(Math(bmatrix(\"x\",x)))"
   ]
  },
  {
   "cell_type": "markdown",
   "metadata": {},
   "source": [
    "Mateusz Dorobek"
   ]
  }
 ],
 "metadata": {
  "kernelspec": {
   "display_name": "Python 3",
   "language": "python",
   "name": "python3"
  },
  "language_info": {
   "codemirror_mode": {
    "name": "ipython",
    "version": 3
   },
   "file_extension": ".py",
   "mimetype": "text/x-python",
   "name": "python",
   "nbconvert_exporter": "python",
   "pygments_lexer": "ipython3",
   "version": "3.7.3"
  }
 },
 "nbformat": 4,
 "nbformat_minor": 4
}
