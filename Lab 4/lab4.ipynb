{
 "cells": [
  {
   "cell_type": "code",
   "execution_count": 96,
   "metadata": {},
   "outputs": [],
   "source": [
    "import numpy as np\n",
    "\n",
    "def grad(x):\n",
    "    return np.array([3* np.exp(3*x[0]) -2 *x[2] * x[0], -4*np.exp(-4*x[1])-2 *x[2] * x[1], - x[0]**2 -x[1]**2 +1])\n",
    "\n",
    "def rh_gen(F):\n",
    "    def rh_update(z,n):\n",
    "        return -F(z)\n",
    "    return rh_update\n",
    "\n",
    "def hessian(x):\n",
    "    row_0 = np.array([ 9 * np.exp(3 * x[0]) - 2 * x[2], 0 , -2 * x[0] ]).reshape(3,1)\n",
    "    row_1 = np.array([ 0, 16 * np.exp(-4 * x[1]) - 2 * x[2], -2 * x[1]]).reshape(3,1)\n",
    "    row_2 = np.array([ -2 * x[0], -2 * x[1], 0]).reshape(3,1)\n",
    "    return np.concatenate((row_0, row_1, row_2), axis=1)\n",
    "\n",
    "def mat_gen(H):\n",
    "    def mat_update(z,n):\n",
    "        return H(z)\n",
    "    return mat_update\n",
    "\n",
    "def algo(z, rh, matrix, rh_update, mat_update, alpha=1, epsilon=1e-10):\n",
    "    dz = np.linalg.solve(matrix,rh)\n",
    "    #print(matrix,rh)\n",
    "    z = z + alpha*dz\n",
    "    rh = rh_update(z, n)\n",
    "    matrix = mat_update(z, n)\n",
    "    cont = np.linalg.norm(rh[:2]) > epsilon\n",
    "    return cont, z, rh, matrix\n",
    "    \n",
    "def optimization_loop(z, n):\n",
    "    cont = True\n",
    "    niter = 1000\n",
    "    iloop=0\n",
    "    rh_update = rh_gen(grad)\n",
    "    mat_update = mat_gen(hessian)\n",
    "    rh = rh_update(z, n)\n",
    "    matr = mat_update(z, n)\n",
    "    while cont and iloop<niter:\n",
    "        cont, z, rh, matr = algo(z, rh, matr,\n",
    "                                   rh_update, mat_update)\n",
    "        iloop += 1\n",
    "    return z\n"
   ]
  },
  {
   "cell_type": "code",
   "execution_count": 97,
   "metadata": {},
   "outputs": [
    {
     "data": {
      "text/plain": [
       "array([-0.74833549,  0.66332043, -0.21232494])"
      ]
     },
     "execution_count": 97,
     "metadata": {},
     "output_type": "execute_result"
    }
   ],
   "source": [
    "z0 = np.array([-1,1, -1])\n",
    "n = 2\n",
    "optimization_loop(z0, n)"
   ]
  },
  {
   "cell_type": "code",
   "execution_count": 75,
   "metadata": {},
   "outputs": [
    {
     "data": {
      "text/plain": [
       "(3, 3)"
      ]
     },
     "execution_count": 75,
     "metadata": {},
     "output_type": "execute_result"
    }
   ],
   "source": []
  },
  {
   "cell_type": "code",
   "execution_count": null,
   "metadata": {},
   "outputs": [],
   "source": []
  },
  {
   "cell_type": "code",
   "execution_count": null,
   "metadata": {},
   "outputs": [],
   "source": []
  }
 ],
 "metadata": {
  "kernelspec": {
   "display_name": "Python 3",
   "language": "python",
   "name": "python3"
  },
  "language_info": {
   "codemirror_mode": {
    "name": "ipython",
    "version": 3
   },
   "file_extension": ".py",
   "mimetype": "text/x-python",
   "name": "python",
   "nbconvert_exporter": "python",
   "pygments_lexer": "ipython3",
   "version": "3.7.3"
  }
 },
 "nbformat": 4,
 "nbformat_minor": 4
}
